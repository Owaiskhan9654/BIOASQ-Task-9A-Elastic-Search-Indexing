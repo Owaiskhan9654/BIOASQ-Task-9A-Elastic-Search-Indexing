{
 "cells": [
  {
   "cell_type": "markdown",
   "metadata": {},
   "source": [
    "\n",
    "This Live Notebook is created by Owais Ahmad, contact and questions: [owaiskhan9654.github.io](https://owaiskhan9654.github.io/)"
   ]
  },
  {
   "cell_type": "markdown",
   "metadata": {},
   "source": [
    "# ElasticSearch Basics\n",
    "- [ElasticSearch installation](https://www.elastic.co/guide/en/elasticsearch/reference/current/install-elasticsearch.html)\n",
    "- [ElasticSearch python client](https://elasticsearch-py.readthedocs.io/en/master/)\n",
    "- BIOASQ TASK 9a Dataset [Link](http://participants-area.bioasq.org/Tasks/9a/trainingDataset/raw/allMeSH/)"
   ]
  },
  {
   "cell_type": "markdown",
   "metadata": {},
   "source": [
    "## Installing python client\n",
    "\n",
    "```!pip install elasticsearch```"
   ]
  },
  {
   "cell_type": "markdown",
   "metadata": {},
   "source": [
    "### Importing packages"
   ]
  },
  {
   "cell_type": "code",
   "execution_count": 1,
   "metadata": {},
   "outputs": [],
   "source": [
    "# Import packages\n",
    "import numpy as np\n",
    "import pandas as pd\n",
    "import re\n",
    "import ijson\n",
    "from pprint import pprint\n",
    "from tqdm import tqdm\n",
    "import warnings\n",
    "warnings.filterwarnings(\"ignore\", category=DeprecationWarning) \n",
    "from elasticsearch import Elasticsearch"
   ]
  },
  {
   "cell_type": "markdown",
   "metadata": {},
   "source": [
    "### Configurating ElasticSearch"
   ]
  },
  {
   "cell_type": "code",
   "execution_count": 2,
   "metadata": {},
   "outputs": [],
   "source": [
    "# Elastic search configuation\n",
    "\n",
    "es = Elasticsearch(HOST=\"http://localhost\", PORT=9200)"
   ]
  },
  {
   "cell_type": "markdown",
   "metadata": {},
   "source": [
    "### In BIOASQ TASK 9A total  Number of articles present are 15,559,157 which is around 25.6 GB in size and Total Number of MeSH Covered in These articles are 29,369"
   ]
  },
  {
   "cell_type": "markdown",
   "metadata": {},
   "source": [
    "### Loading BioAsq Task 8a Dataset"
   ]
  },
  {
   "cell_type": "markdown",
   "metadata": {},
   "source": [
    "In this notebook I am only working with sample size of 10,000 \n",
    "\n",
    "\n",
    "## DataSet [Link](http://participants-area.bioasq.org/Tasks/9a/trainingDataset/raw/allMeSH/)"
   ]
  },
  {
   "cell_type": "code",
   "execution_count": 3,
   "metadata": {},
   "outputs": [
    {
     "name": "stderr",
     "output_type": "stream",
     "text": [
      "9999it [00:00, 75381.85it/s]"
     ]
    },
    {
     "name": "stdout",
     "output_type": "stream",
     "text": [
      "Wall time: 202 ms\n"
     ]
    },
    {
     "name": "stderr",
     "output_type": "stream",
     "text": [
      "\n"
     ]
    }
   ],
   "source": [
    "%%time\n",
    "\n",
    "abstractText=[]\n",
    "meshMajor=[]\n",
    "pmid=[]\n",
    "title=[]\n",
    "journal=[]\n",
    "year=[]\n",
    "count=0 #you may increase the value of count in order to \n",
    "f = open(r\"D:/Lab Backup by Sushil/OWAIS/BIO ASQ DATASET TASK A/allMeSH_2021.json\")\n",
    "objects = ijson.items(f, 'articles.item')\n",
    "for obj in tqdm(objects):\n",
    "    abstractText.append(obj[\"abstractText\"].strip())\n",
    "    meshMajor.append(obj[\"meshMajor\"])\n",
    "    pmid.append(obj[\"pmid\"])\n",
    "    title.append(obj['title'])\n",
    "    journal.append(obj['journal'])\n",
    "    year.append(obj['year'])\n",
    "    count =count +1\n",
    "    if count==10000:\n",
    "        break\n",
    "\n",
    "data = pd.DataFrame({'abstractText': abstractText, 'journal':journal,'meshMajor': meshMajor,'pmid':pmid,'title':title,'year':year})\n",
    "data=data.to_dict(orient='records')"
   ]
  },
  {
   "cell_type": "code",
   "execution_count": 4,
   "metadata": {},
   "outputs": [
    {
     "name": "stdout",
     "output_type": "stream",
     "text": [
      "{'abstractText': 'Resin acids in pulp and paper mills wastewater are '\n",
      "                 'potentially partitioned in the solids in post-primary '\n",
      "                 'clarification due to higher hydrophobicity with log Kow '\n",
      "                 '?1.74-5.80. They are known to adversely affect anaerobic '\n",
      "                 'digestion (AD) process, although the effect has not been '\n",
      "                 'quantified deterministically in control studies. The '\n",
      "                 'objective of the present work was to determine the effect of '\n",
      "                 'untreated and ozonated spiked resin acids on AD of primary '\n",
      "                 'sludge. Batch adsorption tests were conducted to determine '\n",
      "                 'the solid-liquid partition coefficient (Kd) of resin acids '\n",
      "                 'on the primary sludge. Higher Kd was obtained at pH 4; '\n",
      "                 'however, it was decreased by 78-98% at pH 8. Thereafter, '\n",
      "                 'batch AD of model resin acids in primary sludge using food '\n",
      "                 'to microorganism ratio (S0/X) of 0.5gtCOD/gVSSindicated only '\n",
      "                 '15-20% removal of resin acids in the liquid phase '\n",
      "                 'anaerobically. While, ozonation in pure water using '\n",
      "                 '0.74-1.48\\xa0mg O3/mg tCOD showed >90% reduction of the test '\n",
      "                 'resin acids, an ozone dose of 0.52\\xa0mg O3/mg tCOD reduced '\n",
      "                 \"50-70% spiked resin acids' load to the digester. However, no \"\n",
      "                 'further removal of resin acids occurred during AD over 30 '\n",
      "                 'days. About 42% reduction in methane production compared to '\n",
      "                 'the control digestor occurred in the presence of 150\\xa0mg/L '\n",
      "                 'of resin acids. When treated with 0.52\\xa0mg O3/mg tCOD, '\n",
      "                 'methane production improved and was comparable to the '\n",
      "                 'control digestor, indicating that resin acids may not be '\n",
      "                 'detrimental to AD at a concentration range of 45-75\\xa0mg/L.',\n",
      " 'journal': 'Chemosphere',\n",
      " 'meshMajor': ['Abietanes',\n",
      "               'Adsorption',\n",
      "               'Anaerobiosis',\n",
      "               'Diterpenes',\n",
      "               'Kinetics',\n",
      "               'Methane',\n",
      "               'Ozone',\n",
      "               'Resins, Plant',\n",
      "               'Sewage',\n",
      "               'Waste Disposal, Fluid',\n",
      "               'Waste Water',\n",
      "               'Water Pollutants, Chemical'],\n",
      " 'pmid': '33182136',\n",
      " 'title': 'Anaerobic digestibility of resin acids in primary sludge: Effect of '\n",
      "          'ozone pretreatment.',\n",
      " 'year': '2021'}\n"
     ]
    }
   ],
   "source": [
    "pprint(data[509]) #Random dataset at index 509"
   ]
  },
  {
   "cell_type": "markdown",
   "metadata": {},
   "source": [
    "### Creating index for each Articles"
   ]
  },
  {
   "cell_type": "code",
   "execution_count": 5,
   "metadata": {
    "scrolled": false
   },
   "outputs": [
    {
     "name": "stderr",
     "output_type": "stream",
     "text": [
      "100%|███████████████████████████████████████████████████████████████████████████| 10000/10000 [00:35<00:00, 285.22it/s]"
     ]
    },
    {
     "name": "stdout",
     "output_type": "stream",
     "text": [
      "{'_id': '9999',\n",
      " '_index': 'bioasq_task_9a',\n",
      " '_primary_term': 1,\n",
      " '_seq_no': 9999,\n",
      " '_shards': {'failed': 0, 'successful': 1, 'total': 2},\n",
      " '_type': '_doc',\n",
      " '_version': 1,\n",
      " 'result': 'created'}\n",
      "\n",
      "\n",
      "This is only showing last inserted element\n",
      "Wall time: 35.1 s\n"
     ]
    },
    {
     "name": "stderr",
     "output_type": "stream",
     "text": [
      "\n"
     ]
    }
   ],
   "source": [
    "%%time\n",
    "\n",
    "i=-1\n",
    "for a_data in tqdm(data):\n",
    "    i=i+1\n",
    "    result=es.index(index='bioasq_task_9a',body=a_data,id=i)\n",
    "pprint(result)\n",
    "print('\\n\\nThis is only showing last inserted element')"
   ]
  },
  {
   "cell_type": "markdown",
   "metadata": {},
   "source": [
    "### Printing the indexed Data for confirmation"
   ]
  },
  {
   "cell_type": "code",
   "execution_count": 6,
   "metadata": {},
   "outputs": [
    {
     "name": "stderr",
     "output_type": "stream",
     "text": [
      "100%|██████████████████████████████████████████████████████████████████████████| 10000/10000 [00:08<00:00, 1209.17it/s]"
     ]
    },
    {
     "name": "stdout",
     "output_type": "stream",
     "text": [
      "{'_id': '9999',\n",
      " '_index': 'bioasq_task_9a',\n",
      " '_primary_term': 1,\n",
      " '_seq_no': 9999,\n",
      " '_source': {'abstractText': 'The coronavirus disease (COVID-19), while mild '\n",
      "                             'in most cases, has nevertheless caused '\n",
      "                             'significant mortality. The measures adopted in '\n",
      "                             'most countries to contain it have led to '\n",
      "                             'colossal social and economic disruptions, which '\n",
      "                             'will impact the medium- and long-term health '\n",
      "                             'outcomes for many communities. In this paper, we '\n",
      "                             'deliberate on the reality and facts surrounding '\n",
      "                             'the disease. For comparison, we present data '\n",
      "                             'from past pandemics, some of which claimed more '\n",
      "                             'lives than COVID-19. Mortality data on road '\n",
      "                             'traffic crashes and other non-communicable '\n",
      "                             'diseases, which cause more deaths each year than '\n",
      "                             'COVID-19 has so far, is also provided. The '\n",
      "                             'indirect, serious health and social effects are '\n",
      "                             'briefly discussed. We also deliberate on how '\n",
      "                             'misinformation, confusion stemming from '\n",
      "                             'contrasting expert statements, and lack of '\n",
      "                             'international coordination may have influenced '\n",
      "                             'the public perception of the illness and '\n",
      "                             'increased fear and uncertainty. With pandemics '\n",
      "                             'and similar problems likely to re-occur, we call '\n",
      "                             'for evidence-based decisions, the restoration of '\n",
      "                             'responsible journalism and communication built '\n",
      "                             'on a solid scientific foundation.',\n",
      "             'journal': 'Epidemiology and infection',\n",
      "             'meshMajor': ['Accidents, Traffic',\n",
      "                           'Betacoronavirus',\n",
      "                           'COVID-19',\n",
      "                           'Communication',\n",
      "                           'Coronavirus Infections',\n",
      "                           'Disease Outbreaks',\n",
      "                           'Economic Recession',\n",
      "                           'Humans',\n",
      "                           'Influenza Pandemic, 1918-1919',\n",
      "                           'Mental Health',\n",
      "                           'Pandemics',\n",
      "                           'Pneumonia, Viral',\n",
      "                           'Psychological Distance',\n",
      "                           'Public Health',\n",
      "                           'Risk',\n",
      "                           'SARS-CoV-2'],\n",
      "             'pmid': '32958089',\n",
      "             'title': 'The COVID-19 pandemic: the public health reality.',\n",
      "             'year': '2020'},\n",
      " '_type': '_doc',\n",
      " '_version': 1,\n",
      " 'found': True}\n",
      "\n",
      "\n",
      "Size of this notebook will become to large so I only printing the element which is last inserted\n"
     ]
    },
    {
     "name": "stderr",
     "output_type": "stream",
     "text": [
      "\n"
     ]
    }
   ],
   "source": [
    "for i in tqdm(range(len(data))):\n",
    "    \n",
    "    result=es.get(index=\"bioasq_task_9a\",id=i)\n",
    "pprint(result)\n",
    "print('\\n\\nSize of this notebook will become to large so I only printing the element which is last inserted')"
   ]
  },
  {
   "cell_type": "markdown",
   "metadata": {},
   "source": [
    "### If some mistake occurs while indexing you can execute below command to remove that particular index"
   ]
  },
  {
   "cell_type": "code",
   "execution_count": 7,
   "metadata": {},
   "outputs": [],
   "source": [
    "#es.indices.delete(index=\"bioasq_task_9a\")"
   ]
  },
  {
   "cell_type": "code",
   "execution_count": 8,
   "metadata": {},
   "outputs": [
    {
     "name": "stdout",
     "output_type": "stream",
     "text": [
      "{'bioasq_task_9a': {'aliases': {}}}\n"
     ]
    }
   ],
   "source": [
    "print(es.indices.get_alias(\"*\")) #To show how many indices are totally present"
   ]
  },
  {
   "cell_type": "markdown",
   "metadata": {},
   "source": [
    "### Defining Elastic_ser  method for matching documents with given query and number of results to be shown"
   ]
  },
  {
   "cell_type": "code",
   "execution_count": 9,
   "metadata": {
    "scrolled": false
   },
   "outputs": [],
   "source": [
    "# Creating Query Function\n",
    "\n",
    "## Match Query \n",
    "def Elastic_ser(Query=\"COVID-19\",Result_size=2): #Default Query as COVID-19 and Default Result Size as 2\n",
    "    body = {\n",
    "        \"from\":0,\n",
    "        \"size\":Result_size,\n",
    "        \"query\": {\n",
    "            \"match\": {\n",
    "                \"meshMajor\":Query\n",
    "            }\n",
    "        }\n",
    "    }\n",
    "\n",
    "    results = es.search(index=\"bioasq_task_9a\", body=body)\n",
    "    return(results)"
   ]
  },
  {
   "cell_type": "code",
   "execution_count": 10,
   "metadata": {},
   "outputs": [
    {
     "data": {
      "text/plain": [
       "{'took': 4,\n",
       " 'timed_out': False,\n",
       " '_shards': {'total': 1, 'successful': 1, 'skipped': 0, 'failed': 0},\n",
       " 'hits': {'total': {'value': 2630, 'relation': 'eq'},\n",
       "  'max_score': 5.066309,\n",
       "  'hits': [{'_index': 'bioasq_task_9a',\n",
       "    '_type': '_doc',\n",
       "    '_id': '2044',\n",
       "    '_score': 5.066309,\n",
       "    '_source': {'abstractText': 'OBJECTIVE: To analyze the clinical manifestations of heart, liver and kidney damages in the early stage of COVID-19 to identify the indicators for these damages.METHODS: We analyzed the clinical features, underlying diseases, and indicators of infection in 12 patients with COVID-19 on the second day after their admission to our hospital between January 20 and February 20, 2020.The data including CK-MB, aTnI, BNP, heart rate, changes in ECG, LVEF (%), left ventricular general longitudinal strain (GLS, measured by color Doppler ultrasound) were collected.The changes of liver function biochemical indicators were dynamically reviewed.BUN, UCR, eGFR, Ccr, and UACR and the levels of MA, A1M, IGU, and TRU were recorded.RESULTS: The 12 patients included 2 severe cases, 8 common type cases, and 2 mild cases.Four of the patients presented with sinus tachycardia, ECG changes and abnormal GLS in spite of normal aTNI and LVEF; 1 patient had abnormal CKMB and BNP.On the first and third days following admission, the patients had normal ALT, AST and GGT levels.On day 7, hepatic function damage occurred in the severe cases, manifested by elevated ALT and AST levels.Abnormalities of eGFR, Ccr and UACR occurred in 8, 5 and 5 of the patients, respectively.Abnormal elevations of MA, A1M, IGU and TRU in urine protein were observed in 4, 4, 5, and 2 of the patients, respectively.CONCLUSIONS: In patients with COVID-19, heart damage can be identified early by observing the GLS and new abnormalities on ECG in spite of normal aTNI and LVEF.Early liver injury is not obvious in these patients, but dynamic monitoring of the indicators of should be emplemented, especially in severe cases. In cases with normal CR and BUN, kidney damage can be detected early by calculating eGFR, Ccr and UACR and urine protein tests.',\n",
       "     'journal': 'Nan fang yi ke da xue xue bao = Journal of Southern Medical University',\n",
       "     'meshMajor': ['Betacoronavirus',\n",
       "      'COVID-19',\n",
       "      'Coronavirus Infections',\n",
       "      'Humans',\n",
       "      'Pandemics',\n",
       "      'Pneumonia, Viral',\n",
       "      'SARS-CoV-2'],\n",
       "     'pmid': '33118517',\n",
       "     'title': '[Clinical analysis of early damage in multiple extra-pulmonary organs in COVID-19].',\n",
       "     'year': '2020'}}]}}"
      ]
     },
     "execution_count": 10,
     "metadata": {},
     "output_type": "execute_result"
    }
   ],
   "source": [
    "Elastic_ser('SARS-CoV-2',1)"
   ]
  },
  {
   "cell_type": "markdown",
   "metadata": {},
   "source": [
    "### Combining queries\n",
    "\n",
    "#### must, must_not and should\n"
   ]
  },
  {
   "cell_type": "code",
   "execution_count": 11,
   "metadata": {},
   "outputs": [
    {
     "data": {
      "text/plain": [
       "{'took': 4,\n",
       " 'timed_out': False,\n",
       " '_shards': {'total': 1, 'successful': 1, 'skipped': 0, 'failed': 0},\n",
       " 'hits': {'total': {'value': 160, 'relation': 'eq'},\n",
       "  'max_score': 3.3100905,\n",
       "  'hits': [{'_index': 'bioasq_task_9a',\n",
       "    '_type': '_doc',\n",
       "    '_id': '9700',\n",
       "    '_score': 3.3100905,\n",
       "    '_source': {'abstractText': \"BACKGROUND: This longitudinal study aimed to examine the changes in psychological distress of the general public from the early to community-transmission phases of the COVID-19 pandemic and to investigate the factors related to these changes.METHODS: An internet-based survey of 2,400 Japanese people was conducted in two phases: early phase (baseline survey: February 25-27, 2020) and community-transmission phase (follow-up survey: April 1-6, 2020). The presence of severe psychological distress (SPD) was measured using the Kessler's Six-scale Psychological Distress Scale. The difference of SPD percentages between the two phases was examined. Mixed-effects ordinal logistic regression analysis was performed to assess the factors associated with the change of SPD status between the two phases.RESULTS: Surveys for both phases had 2,078 valid respondents (49.3% men; average age, 50.3 years). In the two surveys, individuals with SPD were 9.3% and 11.3%, respectively, demonstrating a significant increase between the two phases (P = 0.005). Significantly higher likelihood to develop SPD were observed among those in lower (ie, 18,600-37,200 United States dollars [USD], odds ratio [OR] 1.95; 95% confidence interval [CI], 1.10-3.46) and the lowest income category (ie, <18,600 USD, OR 2.12; 95% CI, 1.16-3.86). Furthermore, those with respiratory diseases were more likely to develop SPD (OR 2.56; 95% CI, 1.51-4.34).CONCLUSIONS: From the early to community-transmission phases of COVID-19, psychological distress increased among the Japanese. Recommendations include implementing mental health measures together with protective measures against COVID-19 infection, prioritizing low-income people and those with underlying diseases.\",\n",
       "     'journal': 'Journal of epidemiology',\n",
       "     'meshMajor': ['Adolescent',\n",
       "      'Adult',\n",
       "      'Aged',\n",
       "      'Betacoronavirus',\n",
       "      'Coronavirus Infections',\n",
       "      'Depression',\n",
       "      'Female',\n",
       "      'Health Surveys',\n",
       "      'Humans',\n",
       "      'Japan',\n",
       "      'Longitudinal Studies',\n",
       "      'Male',\n",
       "      'Middle Aged',\n",
       "      'Pandemics',\n",
       "      'Pneumonia, Viral',\n",
       "      'Psychological Distress',\n",
       "      'SARS-CoV-2',\n",
       "      'Stress, Psychological',\n",
       "      'Young Adult'],\n",
       "     'pmid': '32963212',\n",
       "     'title': 'Changes in Psychological Distress During the COVID-19 Pandemic in Japan: A Longitudinal Study.',\n",
       "     'year': '2020'}}]}}"
      ]
     },
     "execution_count": 11,
     "metadata": {},
     "output_type": "execute_result"
    }
   ],
   "source": [
    " \n",
    "body = {\n",
    "    \"from\":0,\n",
    "    \"size\":1, #change this inorder to increase the result size\n",
    "    \"query\": {\n",
    "        \"bool\": {\n",
    "            \"must_not\": {\n",
    "                  \"match\": {\n",
    "                    \"meshMajor\":\"COVID-19\"\n",
    "                           }\n",
    "                         },\n",
    "            \"should\": {\n",
    "                \"match\": {\n",
    "                    \"meshMajor\": \"Betacoronavirus\"\n",
    "                          }\n",
    "                      },\n",
    "            \"must\": {\n",
    "                \"match\": {\n",
    "                    \"meshMajor\": \"Pneumonia, Viral\"\n",
    "                         },\n",
    "                    }\n",
    "                 }\n",
    "               } \n",
    "            }\n",
    "\n",
    "res = es.search(index=\"bioasq_task_9a\", body=body)\n",
    "res"
   ]
  },
  {
   "cell_type": "code",
   "execution_count": null,
   "metadata": {},
   "outputs": [],
   "source": []
  }
 ],
 "metadata": {
  "kernelspec": {
   "display_name": "Python 3",
   "language": "python",
   "name": "python3"
  },
  "language_info": {
   "codemirror_mode": {
    "name": "ipython",
    "version": 3
   },
   "file_extension": ".py",
   "mimetype": "text/x-python",
   "name": "python",
   "nbconvert_exporter": "python",
   "pygments_lexer": "ipython3",
   "version": "3.8.3"
  }
 },
 "nbformat": 4,
 "nbformat_minor": 4
}
